{
 "cells": [
  {
   "cell_type": "markdown",
   "metadata": {},
   "source": [
    "The MIT License (MIT)<br>\n",
    "Copyright (c) 2016, 2017 Massachusetts Institute of Technology<br>\n",
    "\n",
    "Authors: Cody Rude and Justin Li<br>\n",
    "This software has been created in projects supported by the US National<br>\n",
    "Science Foundation and NASA (PI: Pankratius)<br>\n",
    "\n",
    "Permission is hereby granted, free of charge, to any person obtaining a copy<br>\n",
    "of this software and associated documentation files (the \"Software\"), to deal<br>\n",
    "in the Software without restriction, including without limitation the rights<br>\n",
    "to use, copy, modify, merge, publish, distribute, sublicense, and/or sell<br>\n",
    "copies of the Software, and to permit persons to whom the Software is<br>\n",
    "furnished to do so, subject to the following conditions:<br>\n",
    "\n",
    "The above copyright notice and this permission notice shall be included in<br>\n",
    "all copies or substantial portions of the Software.<br>\n",
    "THE SOFTWARE IS PROVIDED \"AS IS\", WITHOUT WARRANTY OF ANY KIND, EXPRESS OR<br>\n",
    "IMPLIED, INCLUDING BUT NOT LIMITED TO THE WARRANTIES OF MERCHANTABILITY,<br>\n",
    "FITNESS FOR A PARTICULAR PURPOSE AND NONINFRINGEMENT. IN NO EVENT SHALL THE<br>\n",
    "AUTHORS OR COPYRIGHT HOLDERS BE LIABLE FOR ANY CLAIM, DAMAGES OR OTHER<br>\n",
    "LIABILITY, WHETHER IN AN ACTION OF CONTRACT, TORT OR OTHERWISE, ARISING FROM,<br>\n",
    "OUT OF OR IN CONNECTION WITH THE SOFTWARE OR THE USE OR OTHER DEALINGS IN<br>\n",
    "THE SOFTWARE.<br>"
   ]
  },
  {
   "cell_type": "code",
   "execution_count": null,
   "metadata": {
    "collapsed": true
   },
   "outputs": [],
   "source": [
    "%matplotlib inline\n",
    "import matplotlib.pyplot as plt\n",
    "import numpy as np\n",
    "import matplotlib.pyplot as plt\n",
    "from mpl_toolkits.mplot3d import Axes3D\n",
    "from skimage.restoration import unwrap_phase"
   ]
  },
  {
   "cell_type": "markdown",
   "metadata": {},
   "source": [
    "This notebook generates surface deformations using a Mogi source and \n",
    "converts the deformations to phase differences. Finally, the wrapped \n",
    "phase differences are unwrapped and converted to relative deformations."
   ]
  },
  {
   "cell_type": "markdown",
   "metadata": {},
   "source": [
    "Function for computing deformation from a Mogi source<br>\n",
    "Mogi, K., 1958. Relations between the eruptions of various volcanoes and the deformations of the ground surfaces around them."
   ]
  },
  {
   "cell_type": "code",
   "execution_count": null,
   "metadata": {
    "collapsed": true
   },
   "outputs": [],
   "source": [
    "def mogi(xdata, y, x, source_depth, amplitude, latlon=True):\n",
    "    '''\n",
    "    Compute the surface deformation due to changes in a mogi source\n",
    "\n",
    "    @param xdata: List of the position data with each array element containing [ direction (x, y, or z), lat, lon ]\n",
    "    @param y: Source y Position of (default: latitude)\n",
    "    @param x: Source x Position (default longitude)\n",
    "    @param source_depth: Depth of source\n",
    "    @param amplitude: Amplitude of mogi source\n",
    "    @param latlon: Source y is latitude and source x is longitude\n",
    "\n",
    "    @return list of resulting deformation for each point in xdata\n",
    "    '''\n",
    "    source_coords = (y, x)\n",
    "\n",
    "    results = []\n",
    "\n",
    "    for data in xdata:\n",
    "\n",
    "        dim = data[0]\n",
    "        station_coords = (float(data[1]),float(data[2]))\n",
    "        # print(station_coords)\n",
    "\n",
    "        if latlon==True:\n",
    "            y_distance = mo.wgs84_distance( source_coords, (station_coords[0], source_coords[1]) )\n",
    "            x_distance = mo.wgs84_distance( source_coords, (source_coords[0], station_coords[1]) )\n",
    "            x_distance = x_distance * np.sign(station_coords[1] - source_coords[1])\n",
    "            y_distance = y_distance * np.sign(station_coords[0] - source_coords[0])\n",
    "        else:\n",
    "            y_distance = station_coords[0] - source_coords[0]\n",
    "            x_distance = station_coords[1] - source_coords[1]\n",
    "                                \n",
    "        R3 = (x_distance**2 + y_distance**2 + source_depth**2)**(3/2)\n",
    "\n",
    "        result = None\n",
    "\n",
    "        if dim == 'x':\n",
    "            result = amplitude * x_distance / R3\n",
    "        elif dim == 'y':\n",
    "            result = amplitude * y_distance / R3\n",
    "        elif dim == 'z':\n",
    "            result = amplitude * source_depth / R3\n",
    "        else:\n",
    "            print(\"Did not understand dimension\")\n",
    "\n",
    "        results.append(result)\n",
    "    return results"
   ]
  },
  {
   "cell_type": "markdown",
   "metadata": {},
   "source": [
    "Generate grid of x,y points"
   ]
  },
  {
   "cell_type": "code",
   "execution_count": null,
   "metadata": {
    "collapsed": true
   },
   "outputs": [],
   "source": [
    "x = np.linspace(-10000,10000,num=1001)\n",
    "y = np.linspace(-10000,10000,num=1001)\n",
    "\n",
    "x_input,y_input = np.meshgrid(x,y)\n",
    "\n",
    "z_m_input = [['z',ycoord,xcoord] for ycoord,xcoord in zip(y_input.ravel(),x_input.ravel())]"
   ]
  },
  {
   "cell_type": "markdown",
   "metadata": {},
   "source": [
    "Compute mogi deformation on grid"
   ]
  },
  {
   "cell_type": "code",
   "execution_count": null,
   "metadata": {},
   "outputs": [],
   "source": [
    "mogi_results = np.array(mogi(z_m_input,0,0,5000,0.0010*1000**3,latlon=False)).reshape(1001,1001)"
   ]
  },
  {
   "cell_type": "markdown",
   "metadata": {},
   "source": [
    "Plog Mogi Deformation"
   ]
  },
  {
   "cell_type": "code",
   "execution_count": null,
   "metadata": {},
   "outputs": [],
   "source": [
    "fig=plt.figure()\n",
    "fig.set_size_inches(12,12)\n",
    "ax = fig.add_subplot(111, projection='3d')\n",
    "\n",
    "ax.plot_wireframe(x_input,y_input,mogi_results)"
   ]
  },
  {
   "cell_type": "markdown",
   "metadata": {},
   "source": [
    "Plot deformation using a 2d color plot"
   ]
  },
  {
   "cell_type": "code",
   "execution_count": null,
   "metadata": {},
   "outputs": [],
   "source": [
    "plt.gcf().set_size_inches(13,10);\n",
    "plt.scatter(x_input.ravel()[::10],y_input.ravel()[::10],c=mogi_results.ravel()[::10],cmap='jet_r');\n",
    "plt.colorbar();"
   ]
  },
  {
   "cell_type": "markdown",
   "metadata": {},
   "source": [
    "Function to generate phase measurements from deformation measurements"
   ]
  },
  {
   "cell_type": "code",
   "execution_count": null,
   "metadata": {
    "collapsed": true
   },
   "outputs": [],
   "source": [
    "def generatePhase(displacements, wavelength):\n",
    "    return ((4*np.pi*displacements / wavelength) % (2*np.pi)) - np.pi"
   ]
  },
  {
   "cell_type": "markdown",
   "metadata": {},
   "source": [
    "Generate phase measurements from mogi deformation"
   ]
  },
  {
   "cell_type": "code",
   "execution_count": null,
   "metadata": {
    "collapsed": true
   },
   "outputs": [],
   "source": [
    "wavelength = 3/100\n",
    "phase = generatePhase(mogi_results,wavelength)"
   ]
  },
  {
   "cell_type": "markdown",
   "metadata": {},
   "source": [
    "Plot phase"
   ]
  },
  {
   "cell_type": "code",
   "execution_count": null,
   "metadata": {},
   "outputs": [],
   "source": [
    "plt.gcf().set_size_inches(13,10);\n",
    "\n",
    "plt.scatter(x_input.ravel()[::10],y_input.ravel()[::10],c=phase.ravel()[::10],cmap='jet_r');\n",
    "plt.colorbar();"
   ]
  },
  {
   "cell_type": "markdown",
   "metadata": {},
   "source": [
    "Unwrap phase and convert to deformations"
   ]
  },
  {
   "cell_type": "code",
   "execution_count": null,
   "metadata": {
    "collapsed": true
   },
   "outputs": [],
   "source": [
    "unwrapped = unwrap_phase(phase)\n",
    "scaled_unwrapped = (wavelength / (4*np.pi)) * unwrapped"
   ]
  },
  {
   "cell_type": "markdown",
   "metadata": {},
   "source": [
    "Plot reconstructed (relative) deformations"
   ]
  },
  {
   "cell_type": "code",
   "execution_count": null,
   "metadata": {},
   "outputs": [],
   "source": [
    "plt.gcf().set_size_inches(13,10);\n",
    "plt.scatter(x_input.ravel()[::10], y_input.ravel()[::10],\n",
    "            c=scaled_unwrapped.ravel()[::10],\n",
    "            cmap='jet_r');\n",
    "plt.colorbar();"
   ]
  }
 ],
 "metadata": {
  "kernelspec": {
   "display_name": "Python 3",
   "language": "python",
   "name": "python3"
  },
  "language_info": {
   "codemirror_mode": {
    "name": "ipython",
    "version": 3
   },
   "file_extension": ".py",
   "mimetype": "text/x-python",
   "name": "python",
   "nbconvert_exporter": "python",
   "pygments_lexer": "ipython3",
   "version": "3.6.2"
  }
 },
 "nbformat": 4,
 "nbformat_minor": 2
}
